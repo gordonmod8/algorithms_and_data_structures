{
 "cells": [
  {
   "cell_type": "markdown",
   "metadata": {},
   "source": [
    "# Practice Interview\n",
    "\n",
    "## Objective\n",
    "\n",
    "_*The partner assignment aims to provide participants with the opportunity to practice coding in an interview context. You will analyze your partner's Assignment 1. Moreover, code reviews are common practice in a software development team. This assignment should give you a taste of the code review process.*_\n",
    "\n",
    "## Group Size\n",
    "\n",
    "Each group should have 2 people. You will be assigned a partner\n",
    "\n",
    "## Part 1:\n",
    "\n",
    "You and your partner must share each other's Assignment 1 submission."
   ]
  },
  {
   "cell_type": "markdown",
   "metadata": {},
   "source": [
    "\n",
    "## Part 2:\n",
    "\n",
    "Create a Jupyter Notebook, create 6 of the following headings, and complete the following for your partner's assignment 1:\n",
    "\n",
    "-   Paraphrase the problem in your own words.\n"
   ]
  },
  {
   "cell_type": "markdown",
   "metadata": {},
   "source": [
    ">From Yihui Zhu's answer I can paraphrase the problem as follows:\n",
    ">\n",
    ">Define a function that finds missing integers in a list of integers 0 to n. The provided list may be missing entries or have duplicate entries. Return a list of entries that are missing or else return the number -1 if the list is complete.\n",
    ">\n",
    ">\n",
    ">After reading over problem 3. I would only add that n is taken implicitly to be the max integer provided in the list `nums`. For example if the intention was to list `[0,1,2,...,21,22,23]` and the we were provided `nums=[1,4,7]` alone then given the inputs of the function as such that would be impossible to perform. This point clarifies explicitly that we aren't given `params(nums=[1,4,7],target=23)` and left to find the list `[0,2,3,5,6,8,9,10,...,22,23]`. No, we are just given `nums` and the target`n` is understood to be `n=max(nums)=7` with `return [0,2,3,5,6]`\n"
   ]
  },
  {
   "cell_type": "markdown",
   "metadata": {},
   "source": [
    "\n",
    "-   Create 1 new example that demonstrates you understand the problem. Trace/walkthrough 1 example that your partner made and explain it.\n"
   ]
  },
  {
   "cell_type": "markdown",
   "metadata": {},
   "source": [
    "#example 1\n",
    "\n",
    "Input: lst = [4, 3, 2, 1, 0]\n",
    "\n",
    "Output: -1"
   ]
  },
  {
   "cell_type": "markdown",
   "metadata": {},
   "source": [
    "> great example of the base case from my partner\n",
    ">\n",
    ">all the positive integers less than 4 are present in reverse order\n",
    ">\n",
    "> since there are no missing values in the input the function should return -1 as shown in the line `Output:-1`"
   ]
  },
  {
   "cell_type": "markdown",
   "metadata": {},
   "source": [
    "\n",
    "-   Copy the solution your partner wrote. \n"
   ]
  },
  {
   "cell_type": "code",
   "execution_count": 1,
   "metadata": {},
   "outputs": [
    {
     "name": "stdout",
     "output_type": "stream",
     "text": [
      "[1]\n",
      "[2, 3, 4]\n",
      "[4, 9]\n",
      "-1\n",
      "[1, 2, 3, 4, 5]\n"
     ]
    }
   ],
   "source": [
    "# Solution per Yihui Zhu:\n",
    "\n",
    "from typing import List\n",
    "\n",
    "def missing_num(nums: List[int]) -> List[int]:\n",
    "    if not nums:\n",
    "        return -1\n",
    "        \n",
    "    n = max(nums)\n",
    "    full_set = set(range(n + 1))\n",
    "    nums_set = set(nums)\n",
    "    missing_numbers = list(full_set - nums_set)\n",
    "    \n",
    "    if not missing_numbers:\n",
    "        return -1\n",
    "    else:\n",
    "        return sorted(missing_numbers)\n",
    "    \n",
    "print(missing_num([0, 2]))\n",
    "print(missing_num([5, 0, 1]))\n",
    "print(missing_num([6, 8, 2, 3, 5, 7, 0, 1, 10]))\n",
    "print(missing_num([4, 3, 2, 1, 0]))\n",
    "print(missing_num([8, 6, 9, 7, 7, 0]))"
   ]
  },
  {
   "cell_type": "markdown",
   "metadata": {},
   "source": [
    "\n",
    "-   Explain why their solution works in your own words.\n"
   ]
  },
  {
   "cell_type": "markdown",
   "metadata": {},
   "source": [
    ">The test cases provided help validate the solution\n",
    ">\n",
    ">Additionally by eye we can verify the logic of the code\n",
    ">\n",
    ">    – empty nums returns -1 the base case\n",
    ">\n",
    ">    – then the implicit max is used to generate a range(0,n)\n",
    ">\n",
    ">    – using sets to speed up membership checks the sets are compared and their difference is defined also as a set\n",
    ">\n",
    ">    – an if statement returns -1 for an empty difference or else the difference set is returned, and from the order of operations the difference set inherits numerical order from the function call range(n+1)\n",
    ">\n",
    "> We would expect by verification for the intended result to be returned"
   ]
  },
  {
   "cell_type": "markdown",
   "metadata": {},
   "source": [
    "\n",
    "-   Explain the problem’s time and space complexity in your own words.\n"
   ]
  },
  {
   "cell_type": "markdown",
   "metadata": {},
   "source": [
    ">I think the solution uses a complexity that is a multiple of n\n",
    ">\n",
    "> since calls `{max, range, set(nums), missing_nums=}` all have at worst `O(n)` but by virtue that they were called in sequence not from within eachother I would give this `O(4n)` time complexity\n",
    ">\n",
    ">and by inspection `O(2n`) space complexity since `missing + nums = full`"
   ]
  },
  {
   "cell_type": "markdown",
   "metadata": {},
   "source": [
    "\n",
    "-   Critique your partner's solution, including explanation, and if there is anything that should be adjusted.\n"
   ]
  },
  {
   "cell_type": "markdown",
   "metadata": {},
   "source": [
    "> I like the solution, it is very intuitive, readable, and it makes efficient use of the python. \n",
    ">\n",
    ">I like the use of sets and membership to speed up this simple comparison with python's native hashtable over a list data structure's comparison method\n",
    ">\n",
    ">I would explore an improvement to seek O(n) by recursive functions\n",
    ">\n",
    "> I would pop members off the list until the nums input hits empty and the function returns -1 or the list of missing numbers. \n",
    ">\n",
    ">This kind of function would be harder to verify visually than the one provided by my partner but it could save resources when lists hit billions of numbers in size."
   ]
  },
  {
   "cell_type": "markdown",
   "metadata": {},
   "source": [
    "\n",
    "## Part 3:\n",
    "\n",
    "Please write a 200 word reflection documenting your process from assignment 1, and your presentation and review experience with your partner at the bottom of the Jupyter Notebook under a new heading \"Reflection.\" Again, export this Notebook as pdf.\n"
   ]
  },
  {
   "cell_type": "markdown",
   "metadata": {},
   "source": [
    "### Reflection"
   ]
  },
  {
   "cell_type": "markdown",
   "metadata": {},
   "source": [
    ">My process in assignment 1 was very difficult conceptually\n",
    ">\n",
    ">I struggled with the conceptual simplicity of the recursive solution. I had in mind an if-structure that separated cases which was not necessary at all. \n",
    ">\n",
    ">In addition I was misinterpreting the problem as providing not a root node with a set of relations, each themselves being a node with left right relations. I initially coded the solution assuming a list of integers was provided in breadth first search order which represented a tree, first element at height 1, next elements 1,2 at height 2, then elements 3,4,5, and 6 had height 3, and so on.\n",
    ">\n",
    "> Once I realized I had access to the tree node class with left and right values I rewrote some of my code instead of starting from scratch. Which I think prolonged my confusion\n",
    ">\n",
    "> That decision made it difficult to spot where to cut complexity from my code. \n",
    ">\n",
    ">Eventually by looking up examples of binary search tree algorithms and validating with examples I came to the reduced form I submitted\n",
    ">\n",
    ">My experience reviewing Yihui Zhu's code was very different. I could simply read and calculate what was provided instead of find inspiration and research methods for syntax to implement my ideas.\n",
    ">\n",
    "> This meant I was able to think more quickly about the problem and the code. Also, that my inspiration for code flowed more easily.\n"
   ]
  },
  {
   "cell_type": "markdown",
   "metadata": {},
   "source": [
    "\n",
    "## Evaluation Criteria\n",
    "\n",
    "We are looking for the similar points as Assignment 1\n",
    "\n",
    "-   Problem is accurately stated\n",
    "\n",
    "-   New example is correct and easily understandable\n",
    "\n",
    "-   Correctness, time, and space complexity of the coding solution\n",
    "\n",
    "-   Clarity in explaining why the solution works, its time and space complexity\n",
    "\n",
    "-   Quality of critique of your partner's assignment, if necessary\n"
   ]
  },
  {
   "cell_type": "markdown",
   "metadata": {},
   "source": [
    "## Submission Information\n",
    "\n",
    "🚨 **Please review our [Assignment Submission Guide](https://github.com/UofT-DSI/onboarding/blob/main/onboarding_documents/submissions.md)** 🚨 for detailed instructions on how to format, branch, and submit your work. Following these guidelines is crucial for your submissions to be evaluated correctly.\n",
    "\n",
    "### Submission Parameters:\n",
    "* Submission Due Date: `HH:MM AM/PM - DD/MM/YYYY`\n",
    "* The branch name for your repo should be: `assignment-2`\n",
    "* What to submit for this assignment:\n",
    "    * This Jupyter Notebook (assignment_2.ipynb) should be populated and should be the only change in your pull request.\n",
    "* What the pull request link should look like for this assignment: `https://github.com/<your_github_username>/algorithms_and_data_structures/pull/<pr_id>`\n",
    "    * Open a private window in your browser. Copy and paste the link to your pull request into the address bar. Make sure you can see your pull request properly. This helps the technical facilitator and learning support staff review your submission easily.\n",
    "\n",
    "Checklist:\n",
    "- [ ] Created a branch with the correct naming convention.\n",
    "- [ ] Ensured that the repository is public.\n",
    "- [ ] Reviewed the PR description guidelines and adhered to them.\n",
    "- [ ] Verify that the link is accessible in a private browser window.\n",
    "\n",
    "If you encounter any difficulties or have questions, please don't hesitate to reach out to our team via our Slack at `#cohort-3-help`. Our Technical Facilitators and Learning Support staff are here to help you navigate any challenges.\n"
   ]
  }
 ],
 "metadata": {
  "kernelspec": {
   "display_name": "dsi_participant",
   "language": "python",
   "name": "python3"
  },
  "language_info": {
   "codemirror_mode": {
    "name": "ipython",
    "version": 3
   },
   "file_extension": ".py",
   "mimetype": "text/x-python",
   "name": "python",
   "nbconvert_exporter": "python",
   "pygments_lexer": "ipython3",
   "version": "3.9.19"
  }
 },
 "nbformat": 4,
 "nbformat_minor": 2
}
